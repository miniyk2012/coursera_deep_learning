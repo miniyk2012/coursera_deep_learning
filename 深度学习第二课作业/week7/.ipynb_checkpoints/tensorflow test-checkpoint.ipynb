{
 "cells": [
  {
   "cell_type": "markdown",
   "metadata": {
    "ExecuteTime": {
     "end_time": "2018-02-02T14:48:20.777281Z",
     "start_time": "2018-02-02T14:48:20.774099Z"
    }
   },
   "source": [
    "## 问题： 求y = w^2 - 10*w +25的最小值"
   ]
  },
  {
   "cell_type": "markdown",
   "metadata": {
    "ExecuteTime": {
     "end_time": "2018-02-02T15:32:46.734043Z",
     "start_time": "2018-02-02T15:32:46.728847Z"
    }
   },
   "source": [
    "## tensorflow求导的方法"
   ]
  },
  {
   "cell_type": "code",
   "execution_count": 2,
   "metadata": {
    "ExecuteTime": {
     "end_time": "2018-02-02T14:46:14.239387Z",
     "start_time": "2018-02-02T14:46:14.233748Z"
    },
    "collapsed": true
   },
   "outputs": [],
   "source": [
    "import numpy as np\n",
    "import tensorflow as tf"
   ]
  },
  {
   "cell_type": "code",
   "execution_count": 3,
   "metadata": {
    "ExecuteTime": {
     "end_time": "2018-02-02T14:47:04.037060Z",
     "start_time": "2018-02-02T14:47:03.899130Z"
    },
    "collapsed": true
   },
   "outputs": [],
   "source": [
    "w = tf.Variable(0, dtype=tf.float32)"
   ]
  },
  {
   "cell_type": "code",
   "execution_count": 17,
   "metadata": {
    "ExecuteTime": {
     "end_time": "2018-02-02T14:55:23.061526Z",
     "start_time": "2018-02-02T14:55:22.812441Z"
    }
   },
   "outputs": [
    {
     "name": "stdout",
     "output_type": "stream",
     "text": [
      "0.0\n"
     ]
    }
   ],
   "source": [
    "cost = tf.add(tf.add(w**2, tf.multiply(-10., w)), 25.0)\n",
    "train = tf.train.GradientDescentOptimizer(0.01).minimize(cost)\n",
    "\n",
    "init = tf.global_variables_initializer()\n",
    "session = tf.Session()\n",
    "session.run(init)\n",
    "print(session.run(w))"
   ]
  },
  {
   "cell_type": "code",
   "execution_count": 18,
   "metadata": {
    "ExecuteTime": {
     "end_time": "2018-02-02T14:56:02.780708Z",
     "start_time": "2018-02-02T14:56:02.756573Z"
    }
   },
   "outputs": [
    {
     "name": "stdout",
     "output_type": "stream",
     "text": [
      "0.1\n"
     ]
    }
   ],
   "source": [
    "session.run(train)\n",
    "print(session.run(w))"
   ]
  },
  {
   "cell_type": "code",
   "execution_count": 21,
   "metadata": {
    "ExecuteTime": {
     "end_time": "2018-02-02T14:56:40.262104Z",
     "start_time": "2018-02-02T14:56:40.005180Z"
    }
   },
   "outputs": [
    {
     "name": "stdout",
     "output_type": "stream",
     "text": [
      "4.99999\n"
     ]
    }
   ],
   "source": [
    "for i in range(1000):\n",
    "    session.run(train)\n",
    "print(session.run(w))"
   ]
  },
  {
   "cell_type": "markdown",
   "metadata": {},
   "source": [
    "## mxnet求导的方法"
   ]
  },
  {
   "cell_type": "code",
   "execution_count": 198,
   "metadata": {
    "ExecuteTime": {
     "end_time": "2018-02-02T15:31:40.453542Z",
     "start_time": "2018-02-02T15:31:40.449970Z"
    },
    "collapsed": true
   },
   "outputs": [],
   "source": [
    "import mxnet.ndarray as nd\n",
    "import mxnet.autograd as ag"
   ]
  },
  {
   "cell_type": "code",
   "execution_count": 199,
   "metadata": {
    "ExecuteTime": {
     "end_time": "2018-02-02T15:31:40.797859Z",
     "start_time": "2018-02-02T15:31:40.791015Z"
    }
   },
   "outputs": [],
   "source": [
    "x = nd.array([0])\n",
    "x.attach_grad()  # 当进行求导的时候，我们需要一个地方来存x的导数，这个可以通过NDArray的方法attach_grad()来要求系统申请对应的空间。"
   ]
  },
  {
   "cell_type": "code",
   "execution_count": 200,
   "metadata": {
    "ExecuteTime": {
     "end_time": "2018-02-02T15:31:41.280309Z",
     "start_time": "2018-02-02T15:31:41.275985Z"
    }
   },
   "outputs": [],
   "source": [
    "def SGD(z, lr):\n",
    "    global x\n",
    "    x[:] = z - lr * z.grad"
   ]
  },
  {
   "cell_type": "code",
   "execution_count": 204,
   "metadata": {
    "ExecuteTime": {
     "end_time": "2018-02-02T15:31:49.208979Z",
     "start_time": "2018-02-02T15:31:48.492641Z"
    }
   },
   "outputs": [],
   "source": [
    "for i in range(1000):\n",
    "    with ag.record(): # 默认情况下, MXNet不会自动记录和构建用于求导的计算图，我们需要使用autograd里的record()函数来显式的要求MXNet记录我们需要求导的程序。\n",
    "        y = x ** 2 - 20 * x + 101\n",
    "    y.backward()\n",
    "    SGD(x, 0.01)"
   ]
  },
  {
   "cell_type": "code",
   "execution_count": 205,
   "metadata": {
    "ExecuteTime": {
     "end_time": "2018-02-02T15:31:49.220317Z",
     "start_time": "2018-02-02T15:31:49.210222Z"
    }
   },
   "outputs": [
    {
     "name": "stdout",
     "output_type": "stream",
     "text": [
      "\n",
      "[ 9.99997711]\n",
      "<NDArray 1 @cpu(0)>\n",
      "\n",
      "[ -4.57763672e-05]\n",
      "<NDArray 1 @cpu(0)>\n",
      "\n",
      "[ 1.]\n",
      "<NDArray 1 @cpu(0)>\n"
     ]
    }
   ],
   "source": [
    "print(x)\n",
    "print(x.grad)\n",
    "print(x ** 2 - 20 * x + 101)"
   ]
  },
  {
   "cell_type": "code",
   "execution_count": null,
   "metadata": {
    "collapsed": true
   },
   "outputs": [],
   "source": []
  }
 ],
 "metadata": {
  "kernelspec": {
   "display_name": "Python 3",
   "language": "python",
   "name": "python3"
  },
  "language_info": {
   "codemirror_mode": {
    "name": "ipython",
    "version": 3
   },
   "file_extension": ".py",
   "mimetype": "text/x-python",
   "name": "python",
   "nbconvert_exporter": "python",
   "pygments_lexer": "ipython3",
   "version": "3.6.1"
  }
 },
 "nbformat": 4,
 "nbformat_minor": 2
}
